{
  "nbformat": 4,
  "nbformat_minor": 0,
  "metadata": {
    "colab": {
      "provenance": []
    },
    "kernelspec": {
      "name": "python3",
      "display_name": "Python 3"
    },
    "language_info": {
      "name": "python"
    }
  },
  "cells": [
    {
      "cell_type": "code",
      "execution_count": 6,
      "metadata": {
        "colab": {
          "base_uri": "https://localhost:8080/"
        },
        "id": "CZeEwVAIqP3i",
        "outputId": "1c1eb59c-2923-4930-a357-d267fb7bfe5f"
      },
      "outputs": [
        {
          "output_type": "stream",
          "name": "stdout",
          "text": [
            "   ProductID     Category   Price  UnitsSold  Discount\n",
            "0        101  Electronics  1200.0        5.0        10\n",
            "1        102     Clothing    45.0       20.0         5\n",
            "2        103        Books    15.0       50.0         0\n",
            "3        104  Electronics   999.0        8.0        15\n",
            "4        105     Clothing    60.0       30.0        10\n",
            "5        106        Books    10.0      100.0         0\n",
            "6        107  Electronics  1100.0        NaN         5\n",
            "7        108     Clothing     NaN       25.0         5\n",
            "8        109        Books    18.0       80.0         0\n"
          ]
        }
      ],
      "source": [
        "#import libraries\n",
        "import pandas as pd\n",
        "from sklearn.preprocessing import StandardScaler\n",
        "\n",
        "#read data\n",
        "data = pd.read_csv('data.csv')\n",
        "print(data)"
      ]
    },
    {
      "cell_type": "code",
      "source": [
        "# remove rows with missing values\n",
        "data = data.dropna()\n",
        "\n",
        "# Convert 'Category' column to numerical\n",
        "data['Category'] = data['Category'].astype('category').cat.codes\n",
        "\n",
        "# Scale the 'Price' and 'UnitsSold' columns\n",
        "scaler = StandardScaler()\n",
        "data[['Price', 'UnitsSold']] = scaler.fit_transform(data[['Price', 'UnitsSold']])\n",
        "\n",
        "# Save the processed data to a new CSV file\n",
        "data.to_csv('processed_data.csv', index=False)\n",
        "\n",
        "# Print the final processed data\n",
        "print(data)"
      ],
      "metadata": {
        "colab": {
          "base_uri": "https://localhost:8080/"
        },
        "id": "M5PWC6kCq1zq",
        "outputId": "ae7f685a-93d8-4e81-e04a-3b994bff343f"
      },
      "execution_count": 5,
      "outputs": [
        {
          "output_type": "stream",
          "name": "stdout",
          "text": [
            "   ProductID  Category     Price  UnitsSold  Discount\n",
            "0        101         2  1.777106  -1.088559        10\n",
            "1        102         1 -0.596577  -0.645541         5\n",
            "2        103         0 -0.658231   0.240496         0\n",
            "3        104         2  1.364023  -0.999955        15\n",
            "4        105         1 -0.565750  -0.350195        10\n",
            "5        106         0 -0.668507   1.717223         0\n",
            "8        109         0 -0.652065   1.126532         0\n"
          ]
        }
      ]
    }
  ]
}